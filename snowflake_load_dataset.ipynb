{
 "cells": [
  {
   "cell_type": "markdown",
   "id": "a2c4326d",
   "metadata": {},
   "source": [
    "# Snowflake as Data Source for training an ML Model with Amazon Sagemaker\n",
    "\n",
    "\n",
    "This notebook works well with the `Python 3 (Data Science)` kernel on a SageMaker Studio Notebook `ml.t3.medium` instance.\n"
   ]
  },
  {
   "cell_type": "markdown",
   "id": "aeba7432",
   "metadata": {},
   "source": [
    "---\n",
    "\n",
    "## Connection to Snowflake Account"
   ]
  },
  {
   "cell_type": "code",
   "execution_count": null,
   "id": "d89fd9a8",
   "metadata": {},
   "outputs": [],
   "source": [
    "\n",
    "import os\n",
    "import boto3\n",
    "import pandas as pd \n",
    "import snowflake.connector\n",
    "from snowflake.connector.pandas_tools import write_pandas\n",
    "\n",
    "#Collect snowflake credentials from Secrets Manager\n",
    "client = boto3.client('secretsmanager')\n",
    "response = client.get_secret_value(SecretId='your secret ID from Secret Manager')\n",
    "secrets_credentials = json.loads(response['SecretString'])\n",
    "sf_password = secrets_credentials['password']\n",
    "\n",
    "#Connect to Snowflake account\n",
    "conn = snowflake.connector.connect(\n",
    "    user        = \"your_username\",\n",
    "    password    =  sf_password,\n",
    "    account     = \"your_accountid\",\n",
    "    warehouse   = \"warehouse\",\n",
    "    protocol    = \"https\"\n",
    "    )\n"
   ]
  },
  {
   "cell_type": "markdown",
   "id": "a5765e64",
   "metadata": {},
   "source": [
    "---\n",
    "\n",
    "## Snowflake Table Creation "
   ]
  },
  {
   "cell_type": "code",
   "execution_count": null,
   "id": "907fb43e",
   "metadata": {},
   "outputs": [],
   "source": [
    "# Connect to Snowflake database\n",
    "snowflake_db = \"snowflake-database-name\"\n",
    "conn.cursor().execute(\"USE DATABASE \" + snowflake_db)\n",
    "\n",
    "# Connect to Snowflake Table schema\n",
    "housing_schema = 'snowflake-schema-name'\n",
    "conn.cursor().execute(\"CREATE SCHEMA IF NOT EXISTS \" + housing_schema)\n",
    "\n",
    "conn.cursor().execute(\"USE SCHEMA \" + housing_schema)\n",
    "\n",
    "dataset_file = \"housing.csv\"\n",
    "\n",
    "# Getting filename in UPPERCASE and removing .csv\n",
    "filename = os.path.splitext(os.path.basename(dataset_file))[0].upper()\n",
    "\n",
    "# Name for snowflake table\n",
    "snowflake_table =  filename + 'TABLE'\n",
    "\n",
    "# Create a CREATE TABLE SQL-statement\n",
    "create_table_sql = \"CREATE TABLE IF NOT EXISTS \" + snowflake_db + \".\" + housing_schema + \".\" + snowflake_table + \" (\\n\"\n",
    "\n",
    "# Making a data frame to read the columns from \n",
    "df_housing = pd.read_csv(dataset_file) \n",
    "df_housing.rename(columns=str.upper, inplace=True)\n",
    "df_housing.columns\n",
    "\n",
    "# Iterating trough the columns\n",
    "for col in df_housing.columns:\n",
    "    column_name = col.upper()\n",
    "\n",
    "    if (df_housing[col].dtype.name == \"int\" or df_housing[col].dtype.name == \"int64\"):\n",
    "        create_table_sql = create_table_sql + column_name + \" int\"\n",
    "    elif df_housing[col].dtype.name == \"object\":\n",
    "        create_table_sql = create_table_sql + column_name + \" varchar(16777216)\"\n",
    "    elif df_housing[col].dtype.name == \"datetime64[ns]\":\n",
    "        create_table_sql = create_table_sql + column_name + \" datetime\"\n",
    "    elif df_housing[col].dtype.name == \"float64\":\n",
    "        create_table_sql = create_table_sql + column_name + \" float8\"\n",
    "    elif df_housing[col].dtype.name == \"bool\":\n",
    "        create_table_sql = create_table_sql + column_name + \" boolean\"\n",
    "    else:\n",
    "        create_table_sql = create_table_sql + column_name + \" varchar(16777216)\"\n",
    "\n",
    "    # Deciding next steps. Either column is not the last column (add comma) else end create_tbl_statement\n",
    "    if df_housing[col].name != df_housing.columns[-1]:\n",
    "        create_table_sql = create_table_sql + \",\\n\"\n",
    "    else:\n",
    "        create_table_sql = create_table_sql + \")\"\n",
    "\n",
    "        #Execute the SQL statement to create the table\n",
    "        conn.cursor().execute(create_table_sql)  \n",
    "\n",
    "conn.cursor().execute('TRUNCATE TABLE IF EXISTS ' + snowflake_table)    \n",
    "\n",
    "# Write the data from the DataFrame to the Snowflake table.\n",
    "write_pandas(\n",
    "        conn=conn,\n",
    "        df=df_housing,\n",
    "        table_name=snowflake_table,\n",
    "        database=snowflake_db,\n",
    "        schema=housing_schema\n",
    "    ) "
   ]
  }
 ],
 "metadata": {
  "kernelspec": {
   "display_name": "conda_python3",
   "language": "python",
   "name": "conda_python3"
  },
  "language_info": {
   "codemirror_mode": {
    "name": "ipython",
    "version": 3
   },
   "file_extension": ".py",
   "mimetype": "text/x-python",
   "name": "python",
   "nbconvert_exporter": "python",
   "pygments_lexer": "ipython3",
   "version": "3.8.12"
  }
 },
 "nbformat": 4,
 "nbformat_minor": 5
}
